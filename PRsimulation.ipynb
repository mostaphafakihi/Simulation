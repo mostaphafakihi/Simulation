{
  "nbformat": 4,
  "nbformat_minor": 0,
  "metadata": {
    "colab": {
      "name": "PRsimulation.ipynb",
      "provenance": [],
      "collapsed_sections": [],
      "include_colab_link": true
    },
    "kernelspec": {
      "display_name": "Python 3",
      "name": "python3"
    },
    "language_info": {
      "name": "python"
    }
  },
  "cells": [
    {
      "cell_type": "markdown",
      "metadata": {
        "id": "view-in-github",
        "colab_type": "text"
      },
      "source": [
        "<a href=\"https://colab.research.google.com/github/mostaphafakihi/Simulation/blob/main/PRsimulation.ipynb\" target=\"_parent\"><img src=\"https://colab.research.google.com/assets/colab-badge.svg\" alt=\"Open In Colab\"/></a>"
      ]
    },
    {
      "cell_type": "markdown",
      "metadata": {
        "id": "TrvBCGXuhBFU"
      },
      "source": [
        "# **Projet de simulation d'un super marché**\n",
        "\n",
        "\n",
        "\n",
        "\n"
      ]
    },
    {
      "cell_type": "code",
      "metadata": {
        "id": "WCgRV7PylIdg"
      },
      "source": [
        "import numpy as np\n",
        "from pandas import DataFrame\n",
        "import numpy as np\n",
        "import matplotlib.pyplot as plt\n",
        "import pandas as pd\n",
        "import seaborn as sns\n",
        "import statistics\n",
        "import math \n",
        "#plot\n",
        "plt.rcParams['figure.figsize'] = (12, 9)\n"
      ],
      "execution_count": null,
      "outputs": []
    },
    {
      "cell_type": "code",
      "metadata": {
        "id": "SIY-lFodPIEk"
      },
      "source": [
        "#la fonction alea\n",
        "def aleas(IX,IY,IZ):\n",
        "        IX[0] = 171 * ( IX[0] % 177 ) - 2 *  (IX[0] // 177 ) \n",
        "        IY[0] = 172 * ( IY[0] % 176 ) - 35 * ( IY[0] // 176 ) \n",
        "        IZ[0] = 170 * ( IZ[0] % 178 ) - 63 * ( IZ[0] //178 ) \n",
        "        if ( IX[0]<0 ):\n",
        "            IX[0] = IX[0] + 30269  \n",
        "        if ( IY[0]< 0 ) :\n",
        "               IY[0] = IY[0] + 30307 \n",
        "        if (IZ[0]< 0 ) :\n",
        "            IZ[0] = IZ[0] + 30323 \n",
        "        inter = ( ( IX[0] / 30269 ) + ( IY[0] / 30307 ) + ( IZ[0] / 30323 ) )\n",
        "        alea  = inter - int ( inter ) \n",
        "        return alea\n",
        "           "
      ],
      "execution_count": null,
      "outputs": []
    },
    {
      "cell_type": "code",
      "metadata": {
        "id": "4khdMzMUqnmS"
      },
      "source": [
        "def F1(alea):\n",
        "    if alea >= 0 and alea < 0.3:\n",
        "        return 1\n",
        "    elif alea >= 0.3 and alea <= 0.8:\n",
        "        return 2\n",
        "    elif alea > 0.8 and alea <= 0.9:\n",
        "        return 3\n",
        "    elif alea > 0.9 and alea <= 0.95:\n",
        "        return 4\n",
        "    elif alea > 0.95 and alea <= 0.98:\n",
        "        return 5\n",
        "    else:\n",
        "        return 6\n",
        "\n",
        "\n",
        "def F2(alea):\n",
        "    if alea >= 0 and alea < 0.1:\n",
        "        return 2\n",
        "    elif alea >= 0.1 and alea < 0.3:\n",
        "        return 4\n",
        "    elif alea >= 0.3 and alea <= 0.7:\n",
        "        return 6\n",
        "    elif alea > 0.7 and alea <= 0.9:\n",
        "        return 8\n",
        "    else:\n",
        "        return 10\n",
        "\n",
        "\n",
        "def F3(alea):\n",
        "    if alea >= 0 and alea < 0.2:\n",
        "        return 1\n",
        "    elif alea >= 0.2 and alea <= 0.6:\n",
        "        return 2\n",
        "    elif alea > 0.6 and alea <= 0.85:\n",
        "        return 3\n",
        "    else:\n",
        "        return 4"
      ],
      "execution_count": null,
      "outputs": []
    },
    {
      "cell_type": "code",
      "metadata": {
        "id": "ZtWdL8uklLH_"
      },
      "source": [
        "#Trier le calendrier\n",
        "def Trier_cal(calendrier):\n",
        "    l = len(calendrier)\n",
        "    for i in range(0, l):\n",
        "        for j in range(0, l-i-1):\n",
        "            if (calendrier[j][2] > calendrier[j + 1][2]):\n",
        "                tempo = calendrier[j]\n",
        "                calendrier[j]= calendrier[j + 1]\n",
        "                calendrier[j + 1]= tempo\n",
        "    return calendrier"
      ],
      "execution_count": null,
      "outputs": []
    },
    {
      "cell_type": "code",
      "metadata": {
        "id": "Q-wf-paBlLG5"
      },
      "source": [
        "#pour planidier un événement\n",
        "def planif_eve(evt=[]):\n",
        "    cal_tri.append(evt)\n",
        "    return cal_tri\n",
        "#selectionner un événement    \n",
        "def select_eve(cal_tri):\n",
        "    evt_p=cal_tri[0]\n",
        "    cal_tri.pop(0)\n",
        "    return evt_p"
      ],
      "execution_count": null,
      "outputs": []
    },
    {
      "cell_type": "code",
      "metadata": {
        "id": "grwHufQHOrIF"
      },
      "source": [
        "def intervalle_confiance(NCP):\n",
        "  moy_NCP=np.array(NCP)\n",
        "  n=len(moy_NCP)\n",
        "  m=np.mean(moy_NCP)\n",
        "  s=statistics.stdev(moy_NCP,m)\n",
        "  IC=[m-1.96*(s//math.sqrt(n)),m+1.96*(s//math.sqrt(n))]\n",
        "  return IC"
      ],
      "execution_count": null,
      "outputs": []
    },
    {
      "cell_type": "markdown",
      "metadata": {
        "id": "P6J-X5veBYVA"
      },
      "source": [
        "# **Scénario 1(simulation avec deux caisses)**"
      ]
    },
    {
      "cell_type": "code",
      "metadata": {
        "colab": {
          "base_uri": "https://localhost:8080/"
        },
        "id": "t2rloiYelLBx",
        "outputId": "cac5d61e-063a-485b-f584-aa35da2af977"
      },
      "source": [
        "    # Initialiser le calendrier par la 1ère arrivée du 1er client \n",
        "    IX=[0]\n",
        "    IY=[0]\n",
        "    IZ=[0]\n",
        "    IX[0]= int(input(\"Entrez la valeur du premier germe IX: \"))\n",
        "    while (IX[0] <1 or IX[0] >30000):\n",
        "            IX[0] = int(input(\"la valeur que vous avez saisie ne convient pas\"))\n",
        "            \n",
        "    IY[0]= int(input(\"Entrez la valeur du deuxieme germe IY: \"))\n",
        "    while (IY[0] <1 or IY[0] >30000):\n",
        "            IY[0] = int(input(\"la valeur que vous avez saisie ne convient pas\"))\n",
        "            \n",
        "    IZ[0]= int(input(\"Entrez1 la valeur du dernier germe IZ: \"))\n",
        "    while (IZ[0] <1 or IZ[0] >30000):\n",
        "            IZ[0] = int(input(\"la valeur que vous avez saisie ne convient pas\"))"
      ],
      "execution_count": null,
      "outputs": [
        {
          "output_type": "stream",
          "text": [
            "Entrez la valeur du premier germe IX: 10\n",
            "Entrez la valeur du deuxieme germe IY: 100\n",
            "Entrez1 la valeur du dernier germe IZ: 1000\n"
          ],
          "name": "stdout"
        }
      ]
    },
    {
      "cell_type": "code",
      "metadata": {
        "id": "ukbIDdNH0Aeo"
      },
      "source": [
        "resultat=[]\n",
        "resultat_sanspi=[]\n",
        "for k in range(40):   \n",
        "    H = 0         # Horloge de simulation \n",
        "    i = 1         # numéro client arrivé à chaque fois \n",
        "    LQ = 0        # Longueur Queue \n",
        "    NCP = 0       # Nombre Clients Perdus\n",
        "    NCE = 0       # Nombre Clients Entrés \n",
        "    C1 = 0        # état caisse 1 libre \n",
        "    C2 = 0        # état caisse 2 libre \n",
        "    t1 = 0\n",
        "    t2 = 0 \n",
        "    s1 = 0\n",
        "    s2 = 0\n",
        "    DEQ = 0\n",
        "    DSQ = 0\n",
        "    tj = 0\n",
        "    Q=[]\n",
        "    tmp1=0\n",
        "    tmp2=0\n",
        "    TSmoy = 0\n",
        "    TATmoy = 0 \n",
        "    TauC1 =0 \n",
        "    TauC2 = 0\n",
        "    Qj=[]\n",
        "    # Initialiser le calendrier par la 1ère arrivée du 1er client \n",
        "    evt=[]\n",
        "    a=aleas(IX,IY,IZ)\n",
        "    evt1=[1,'A',F1(a)]\n",
        "    cal_tri=[evt1]\n",
        "    file=[]\n",
        "    while (len(cal_tri)!=0):\n",
        "        cal_tri=Trier_cal(cal_tri)\n",
        "        evt_sel=select_eve(cal_tri)\n",
        "        H=evt_sel[2]\n",
        "        if (evt_sel[1] == 'A'):\n",
        "              if (LQ <= 1):\n",
        "                NCE = NCE+1\n",
        "                planif_eve([evt_sel[0],'FM',H+F2(aleas(IX,IY,IZ))])\n",
        "              else:\n",
        "                NCP = NCP+1\n",
        "              i=i+1\n",
        "              DA=H+F1(aleas(IX,IY,IZ))\n",
        "              if (DA<=720):\n",
        "                planif_eve([i,'A',DA])\n",
        "        \n",
        "        if (evt_sel[1] == 'FM'):\n",
        "\n",
        "              if (C1==0 or C2==0):\n",
        "                if (C1==0):\n",
        "                  C1=evt_sel[0]\n",
        "                  t1=t1+(H-s1)\n",
        "                  \n",
        "                else:\n",
        "                  C2=evt_sel[0] \n",
        "                  t2=t2+(H-s2)\n",
        "                tmp1=H+F3(aleas(IX,IY,IZ))\n",
        "                planif_eve([evt_sel[0],'FP',tmp1])\n",
        "                DEQ=DEQ+tmp1\n",
        "              else :      \n",
        "                LQ=LQ+1\n",
        "                s1=H \n",
        "                s2=H\n",
        "                file.append(evt_sel[0])\n",
        "      \n",
        "        if (evt_sel[1] == 'FP'):\n",
        "\n",
        "            if (LQ==0):\n",
        "              if (C1==evt_sel[0]):\n",
        "                  C1=0\n",
        "                  \n",
        "              else:\n",
        "                C2=0\n",
        "            else:\n",
        "              j=file[0]\n",
        "              file.pop(0)\n",
        "              LQ=LQ-1\n",
        "              tj=tj+(H-s1)\n",
        "              Q.append(tj)\n",
        "              if (C1==evt_sel[0]):\n",
        "                C1=j\n",
        "              else:\n",
        "                C2=j\n",
        "              tmp2=H+F3(aleas(IX,IY,IZ))\n",
        "              planif_eve([j,'FP',tmp2])\n",
        "              DSQ=DSQ+tmp2                                   \n",
        "    DFS=H\n",
        "    Qj=[element * (1/DFS) for element in Q]\n",
        "    TauC1=t1/DFS\n",
        "    TauC2=t2/DFS\n",
        "    TATmoy=(DSQ-DEQ)/NCE\n",
        "    TSmoy=(H-DA)/NCE\n",
        "    resultat.extend([[DFS,NCE, NCP,TSmoy ,TATmoy ,TauC1 ,TauC2]])\n",
        "    IX[0]=IX[0]+10+k*10\n",
        "    IY[0]=IY[0]+30+k*30\n",
        "    IZ[0]=IZ[0]+20+k*20\n"
      ],
      "execution_count": null,
      "outputs": []
    },
    {
      "cell_type": "code",
      "metadata": {
        "id": "8bip7R23Hf1B",
        "colab": {
          "base_uri": "https://localhost:8080/",
          "height": 1000
        },
        "outputId": "6120eb84-e203-4115-f5c1-f75cd8b980c4"
      },
      "source": [
        "df1 = pd.DataFrame(resultat, columns =['DFS','NCE', 'NCP','TSmoy' ,'TATmoy' ,'TauC1' ,'TauC2'],index=['sim1','sim2','sim3','sim4','sim5','sim6','sim7','sim8','sim9','sim10','sim11','sim12','sim13','sim14','sim15','sim16','sim17','sim18','sim19','sim20','sim21','sim22','sim23','sim24','sim25','sim26','sim27','sim28','sim29','sim30','sim31','sim32','sim33','sim34','sim35','sim36','sim37','sim38','sim39','sim40'])\n",
        "df1\n"
      ],
      "execution_count": null,
      "outputs": [
        {
          "output_type": "execute_result",
          "data": {
            "text/html": [
              "<div>\n",
              "<style scoped>\n",
              "    .dataframe tbody tr th:only-of-type {\n",
              "        vertical-align: middle;\n",
              "    }\n",
              "\n",
              "    .dataframe tbody tr th {\n",
              "        vertical-align: top;\n",
              "    }\n",
              "\n",
              "    .dataframe thead th {\n",
              "        text-align: right;\n",
              "    }\n",
              "</style>\n",
              "<table border=\"1\" class=\"dataframe\">\n",
              "  <thead>\n",
              "    <tr style=\"text-align: right;\">\n",
              "      <th></th>\n",
              "      <th>DFS</th>\n",
              "      <th>NCE</th>\n",
              "      <th>NCP</th>\n",
              "      <th>TSmoy</th>\n",
              "      <th>TATmoy</th>\n",
              "      <th>TauC1</th>\n",
              "      <th>TauC2</th>\n",
              "    </tr>\n",
              "  </thead>\n",
              "  <tbody>\n",
              "    <tr>\n",
              "      <th>sim1</th>\n",
              "      <td>726</td>\n",
              "      <td>342</td>\n",
              "      <td>6</td>\n",
              "      <td>0.014620</td>\n",
              "      <td>-122.146199</td>\n",
              "      <td>1.844353</td>\n",
              "      <td>1.511019</td>\n",
              "    </tr>\n",
              "    <tr>\n",
              "      <th>sim2</th>\n",
              "      <td>728</td>\n",
              "      <td>349</td>\n",
              "      <td>10</td>\n",
              "      <td>0.017192</td>\n",
              "      <td>-125.074499</td>\n",
              "      <td>1.486264</td>\n",
              "      <td>1.182692</td>\n",
              "    </tr>\n",
              "    <tr>\n",
              "      <th>sim3</th>\n",
              "      <td>727</td>\n",
              "      <td>326</td>\n",
              "      <td>12</td>\n",
              "      <td>0.018405</td>\n",
              "      <td>-124.690184</td>\n",
              "      <td>2.287483</td>\n",
              "      <td>1.766162</td>\n",
              "    </tr>\n",
              "    <tr>\n",
              "      <th>sim4</th>\n",
              "      <td>730</td>\n",
              "      <td>356</td>\n",
              "      <td>3</td>\n",
              "      <td>0.016854</td>\n",
              "      <td>-116.775281</td>\n",
              "      <td>1.608219</td>\n",
              "      <td>1.397260</td>\n",
              "    </tr>\n",
              "    <tr>\n",
              "      <th>sim5</th>\n",
              "      <td>729</td>\n",
              "      <td>336</td>\n",
              "      <td>8</td>\n",
              "      <td>0.023810</td>\n",
              "      <td>-170.196429</td>\n",
              "      <td>2.124829</td>\n",
              "      <td>1.851852</td>\n",
              "    </tr>\n",
              "    <tr>\n",
              "      <th>sim6</th>\n",
              "      <td>730</td>\n",
              "      <td>341</td>\n",
              "      <td>7</td>\n",
              "      <td>0.026393</td>\n",
              "      <td>-128.096774</td>\n",
              "      <td>2.143836</td>\n",
              "      <td>1.536986</td>\n",
              "    </tr>\n",
              "    <tr>\n",
              "      <th>sim7</th>\n",
              "      <td>729</td>\n",
              "      <td>328</td>\n",
              "      <td>11</td>\n",
              "      <td>0.024390</td>\n",
              "      <td>-135.423780</td>\n",
              "      <td>1.914952</td>\n",
              "      <td>1.566529</td>\n",
              "    </tr>\n",
              "    <tr>\n",
              "      <th>sim8</th>\n",
              "      <td>732</td>\n",
              "      <td>335</td>\n",
              "      <td>10</td>\n",
              "      <td>0.029851</td>\n",
              "      <td>-134.414925</td>\n",
              "      <td>1.908470</td>\n",
              "      <td>1.445355</td>\n",
              "    </tr>\n",
              "    <tr>\n",
              "      <th>sim9</th>\n",
              "      <td>724</td>\n",
              "      <td>345</td>\n",
              "      <td>13</td>\n",
              "      <td>0.008696</td>\n",
              "      <td>-103.008696</td>\n",
              "      <td>1.607735</td>\n",
              "      <td>1.339779</td>\n",
              "    </tr>\n",
              "    <tr>\n",
              "      <th>sim10</th>\n",
              "      <td>725</td>\n",
              "      <td>340</td>\n",
              "      <td>10</td>\n",
              "      <td>0.008824</td>\n",
              "      <td>-98.667647</td>\n",
              "      <td>2.053793</td>\n",
              "      <td>1.573793</td>\n",
              "    </tr>\n",
              "    <tr>\n",
              "      <th>sim11</th>\n",
              "      <td>726</td>\n",
              "      <td>327</td>\n",
              "      <td>10</td>\n",
              "      <td>0.015291</td>\n",
              "      <td>-149.440367</td>\n",
              "      <td>2.490358</td>\n",
              "      <td>1.924242</td>\n",
              "    </tr>\n",
              "    <tr>\n",
              "      <th>sim12</th>\n",
              "      <td>725</td>\n",
              "      <td>331</td>\n",
              "      <td>9</td>\n",
              "      <td>0.009063</td>\n",
              "      <td>-109.966767</td>\n",
              "      <td>1.871724</td>\n",
              "      <td>1.526897</td>\n",
              "    </tr>\n",
              "    <tr>\n",
              "      <th>sim13</th>\n",
              "      <td>732</td>\n",
              "      <td>340</td>\n",
              "      <td>13</td>\n",
              "      <td>0.029412</td>\n",
              "      <td>-65.517647</td>\n",
              "      <td>1.580601</td>\n",
              "      <td>1.094262</td>\n",
              "    </tr>\n",
              "    <tr>\n",
              "      <th>sim14</th>\n",
              "      <td>732</td>\n",
              "      <td>335</td>\n",
              "      <td>12</td>\n",
              "      <td>0.032836</td>\n",
              "      <td>-100.477612</td>\n",
              "      <td>1.773224</td>\n",
              "      <td>1.442623</td>\n",
              "    </tr>\n",
              "    <tr>\n",
              "      <th>sim15</th>\n",
              "      <td>728</td>\n",
              "      <td>332</td>\n",
              "      <td>11</td>\n",
              "      <td>0.021084</td>\n",
              "      <td>-104.099398</td>\n",
              "      <td>1.824176</td>\n",
              "      <td>1.300824</td>\n",
              "    </tr>\n",
              "    <tr>\n",
              "      <th>sim16</th>\n",
              "      <td>729</td>\n",
              "      <td>337</td>\n",
              "      <td>7</td>\n",
              "      <td>0.020772</td>\n",
              "      <td>-146.370920</td>\n",
              "      <td>1.994513</td>\n",
              "      <td>1.482853</td>\n",
              "    </tr>\n",
              "    <tr>\n",
              "      <th>sim17</th>\n",
              "      <td>728</td>\n",
              "      <td>331</td>\n",
              "      <td>11</td>\n",
              "      <td>0.021148</td>\n",
              "      <td>-84.290030</td>\n",
              "      <td>1.679945</td>\n",
              "      <td>1.245879</td>\n",
              "    </tr>\n",
              "    <tr>\n",
              "      <th>sim18</th>\n",
              "      <td>729</td>\n",
              "      <td>339</td>\n",
              "      <td>10</td>\n",
              "      <td>0.020649</td>\n",
              "      <td>-123.297935</td>\n",
              "      <td>1.676269</td>\n",
              "      <td>1.484225</td>\n",
              "    </tr>\n",
              "    <tr>\n",
              "      <th>sim19</th>\n",
              "      <td>731</td>\n",
              "      <td>343</td>\n",
              "      <td>10</td>\n",
              "      <td>0.020408</td>\n",
              "      <td>-147.565598</td>\n",
              "      <td>1.879617</td>\n",
              "      <td>1.525308</td>\n",
              "    </tr>\n",
              "    <tr>\n",
              "      <th>sim20</th>\n",
              "      <td>727</td>\n",
              "      <td>342</td>\n",
              "      <td>6</td>\n",
              "      <td>0.017544</td>\n",
              "      <td>-140.774854</td>\n",
              "      <td>1.800550</td>\n",
              "      <td>1.444292</td>\n",
              "    </tr>\n",
              "    <tr>\n",
              "      <th>sim21</th>\n",
              "      <td>730</td>\n",
              "      <td>333</td>\n",
              "      <td>5</td>\n",
              "      <td>0.024024</td>\n",
              "      <td>-124.297297</td>\n",
              "      <td>1.794521</td>\n",
              "      <td>1.282192</td>\n",
              "    </tr>\n",
              "    <tr>\n",
              "      <th>sim22</th>\n",
              "      <td>727</td>\n",
              "      <td>338</td>\n",
              "      <td>11</td>\n",
              "      <td>0.014793</td>\n",
              "      <td>-99.979290</td>\n",
              "      <td>1.470426</td>\n",
              "      <td>1.221458</td>\n",
              "    </tr>\n",
              "    <tr>\n",
              "      <th>sim23</th>\n",
              "      <td>726</td>\n",
              "      <td>337</td>\n",
              "      <td>10</td>\n",
              "      <td>0.014837</td>\n",
              "      <td>-95.317507</td>\n",
              "      <td>1.707989</td>\n",
              "      <td>1.265840</td>\n",
              "    </tr>\n",
              "    <tr>\n",
              "      <th>sim24</th>\n",
              "      <td>726</td>\n",
              "      <td>343</td>\n",
              "      <td>10</td>\n",
              "      <td>0.008746</td>\n",
              "      <td>-154.647230</td>\n",
              "      <td>1.973829</td>\n",
              "      <td>1.487603</td>\n",
              "    </tr>\n",
              "    <tr>\n",
              "      <th>sim25</th>\n",
              "      <td>730</td>\n",
              "      <td>339</td>\n",
              "      <td>12</td>\n",
              "      <td>0.020649</td>\n",
              "      <td>-111.796460</td>\n",
              "      <td>1.632877</td>\n",
              "      <td>1.145205</td>\n",
              "    </tr>\n",
              "    <tr>\n",
              "      <th>sim26</th>\n",
              "      <td>728</td>\n",
              "      <td>337</td>\n",
              "      <td>14</td>\n",
              "      <td>0.020772</td>\n",
              "      <td>-133.329377</td>\n",
              "      <td>1.739011</td>\n",
              "      <td>1.373626</td>\n",
              "    </tr>\n",
              "    <tr>\n",
              "      <th>sim27</th>\n",
              "      <td>728</td>\n",
              "      <td>347</td>\n",
              "      <td>9</td>\n",
              "      <td>0.020173</td>\n",
              "      <td>-126.723343</td>\n",
              "      <td>1.471154</td>\n",
              "      <td>1.259615</td>\n",
              "    </tr>\n",
              "    <tr>\n",
              "      <th>sim28</th>\n",
              "      <td>733</td>\n",
              "      <td>336</td>\n",
              "      <td>12</td>\n",
              "      <td>0.032738</td>\n",
              "      <td>-126.449405</td>\n",
              "      <td>1.634379</td>\n",
              "      <td>1.317872</td>\n",
              "    </tr>\n",
              "    <tr>\n",
              "      <th>sim29</th>\n",
              "      <td>725</td>\n",
              "      <td>339</td>\n",
              "      <td>14</td>\n",
              "      <td>0.011799</td>\n",
              "      <td>-78.519174</td>\n",
              "      <td>1.655172</td>\n",
              "      <td>1.209655</td>\n",
              "    </tr>\n",
              "    <tr>\n",
              "      <th>sim30</th>\n",
              "      <td>732</td>\n",
              "      <td>340</td>\n",
              "      <td>14</td>\n",
              "      <td>0.032353</td>\n",
              "      <td>-84.688235</td>\n",
              "      <td>1.637978</td>\n",
              "      <td>1.230874</td>\n",
              "    </tr>\n",
              "    <tr>\n",
              "      <th>sim31</th>\n",
              "      <td>732</td>\n",
              "      <td>337</td>\n",
              "      <td>10</td>\n",
              "      <td>0.032641</td>\n",
              "      <td>-143.008902</td>\n",
              "      <td>1.663934</td>\n",
              "      <td>1.325137</td>\n",
              "    </tr>\n",
              "    <tr>\n",
              "      <th>sim32</th>\n",
              "      <td>731</td>\n",
              "      <td>354</td>\n",
              "      <td>5</td>\n",
              "      <td>0.025424</td>\n",
              "      <td>-104.824859</td>\n",
              "      <td>1.537620</td>\n",
              "      <td>1.288646</td>\n",
              "    </tr>\n",
              "    <tr>\n",
              "      <th>sim33</th>\n",
              "      <td>729</td>\n",
              "      <td>338</td>\n",
              "      <td>11</td>\n",
              "      <td>0.023669</td>\n",
              "      <td>-113.556213</td>\n",
              "      <td>1.816187</td>\n",
              "      <td>1.454047</td>\n",
              "    </tr>\n",
              "    <tr>\n",
              "      <th>sim34</th>\n",
              "      <td>727</td>\n",
              "      <td>346</td>\n",
              "      <td>10</td>\n",
              "      <td>0.014451</td>\n",
              "      <td>-70.205202</td>\n",
              "      <td>1.429161</td>\n",
              "      <td>1.133425</td>\n",
              "    </tr>\n",
              "    <tr>\n",
              "      <th>sim35</th>\n",
              "      <td>728</td>\n",
              "      <td>348</td>\n",
              "      <td>12</td>\n",
              "      <td>0.020115</td>\n",
              "      <td>-92.405172</td>\n",
              "      <td>1.961538</td>\n",
              "      <td>1.497253</td>\n",
              "    </tr>\n",
              "    <tr>\n",
              "      <th>sim36</th>\n",
              "      <td>728</td>\n",
              "      <td>337</td>\n",
              "      <td>8</td>\n",
              "      <td>0.017804</td>\n",
              "      <td>-125.777448</td>\n",
              "      <td>1.987637</td>\n",
              "      <td>1.697802</td>\n",
              "    </tr>\n",
              "    <tr>\n",
              "      <th>sim37</th>\n",
              "      <td>729</td>\n",
              "      <td>348</td>\n",
              "      <td>8</td>\n",
              "      <td>0.020115</td>\n",
              "      <td>-119.813218</td>\n",
              "      <td>1.740741</td>\n",
              "      <td>1.316872</td>\n",
              "    </tr>\n",
              "    <tr>\n",
              "      <th>sim38</th>\n",
              "      <td>726</td>\n",
              "      <td>326</td>\n",
              "      <td>10</td>\n",
              "      <td>0.009202</td>\n",
              "      <td>-124.803681</td>\n",
              "      <td>1.884298</td>\n",
              "      <td>1.414601</td>\n",
              "    </tr>\n",
              "    <tr>\n",
              "      <th>sim39</th>\n",
              "      <td>726</td>\n",
              "      <td>342</td>\n",
              "      <td>14</td>\n",
              "      <td>0.014620</td>\n",
              "      <td>-68.877193</td>\n",
              "      <td>1.439394</td>\n",
              "      <td>1.213499</td>\n",
              "    </tr>\n",
              "    <tr>\n",
              "      <th>sim40</th>\n",
              "      <td>727</td>\n",
              "      <td>342</td>\n",
              "      <td>10</td>\n",
              "      <td>0.014620</td>\n",
              "      <td>-118.666667</td>\n",
              "      <td>1.891334</td>\n",
              "      <td>1.555708</td>\n",
              "    </tr>\n",
              "  </tbody>\n",
              "</table>\n",
              "</div>"
            ],
            "text/plain": [
              "       DFS  NCE  NCP     TSmoy      TATmoy     TauC1     TauC2\n",
              "sim1   726  342    6  0.014620 -122.146199  1.844353  1.511019\n",
              "sim2   728  349   10  0.017192 -125.074499  1.486264  1.182692\n",
              "sim3   727  326   12  0.018405 -124.690184  2.287483  1.766162\n",
              "sim4   730  356    3  0.016854 -116.775281  1.608219  1.397260\n",
              "sim5   729  336    8  0.023810 -170.196429  2.124829  1.851852\n",
              "sim6   730  341    7  0.026393 -128.096774  2.143836  1.536986\n",
              "sim7   729  328   11  0.024390 -135.423780  1.914952  1.566529\n",
              "sim8   732  335   10  0.029851 -134.414925  1.908470  1.445355\n",
              "sim9   724  345   13  0.008696 -103.008696  1.607735  1.339779\n",
              "sim10  725  340   10  0.008824  -98.667647  2.053793  1.573793\n",
              "sim11  726  327   10  0.015291 -149.440367  2.490358  1.924242\n",
              "sim12  725  331    9  0.009063 -109.966767  1.871724  1.526897\n",
              "sim13  732  340   13  0.029412  -65.517647  1.580601  1.094262\n",
              "sim14  732  335   12  0.032836 -100.477612  1.773224  1.442623\n",
              "sim15  728  332   11  0.021084 -104.099398  1.824176  1.300824\n",
              "sim16  729  337    7  0.020772 -146.370920  1.994513  1.482853\n",
              "sim17  728  331   11  0.021148  -84.290030  1.679945  1.245879\n",
              "sim18  729  339   10  0.020649 -123.297935  1.676269  1.484225\n",
              "sim19  731  343   10  0.020408 -147.565598  1.879617  1.525308\n",
              "sim20  727  342    6  0.017544 -140.774854  1.800550  1.444292\n",
              "sim21  730  333    5  0.024024 -124.297297  1.794521  1.282192\n",
              "sim22  727  338   11  0.014793  -99.979290  1.470426  1.221458\n",
              "sim23  726  337   10  0.014837  -95.317507  1.707989  1.265840\n",
              "sim24  726  343   10  0.008746 -154.647230  1.973829  1.487603\n",
              "sim25  730  339   12  0.020649 -111.796460  1.632877  1.145205\n",
              "sim26  728  337   14  0.020772 -133.329377  1.739011  1.373626\n",
              "sim27  728  347    9  0.020173 -126.723343  1.471154  1.259615\n",
              "sim28  733  336   12  0.032738 -126.449405  1.634379  1.317872\n",
              "sim29  725  339   14  0.011799  -78.519174  1.655172  1.209655\n",
              "sim30  732  340   14  0.032353  -84.688235  1.637978  1.230874\n",
              "sim31  732  337   10  0.032641 -143.008902  1.663934  1.325137\n",
              "sim32  731  354    5  0.025424 -104.824859  1.537620  1.288646\n",
              "sim33  729  338   11  0.023669 -113.556213  1.816187  1.454047\n",
              "sim34  727  346   10  0.014451  -70.205202  1.429161  1.133425\n",
              "sim35  728  348   12  0.020115  -92.405172  1.961538  1.497253\n",
              "sim36  728  337    8  0.017804 -125.777448  1.987637  1.697802\n",
              "sim37  729  348    8  0.020115 -119.813218  1.740741  1.316872\n",
              "sim38  726  326   10  0.009202 -124.803681  1.884298  1.414601\n",
              "sim39  726  342   14  0.014620  -68.877193  1.439394  1.213499\n",
              "sim40  727  342   10  0.014620 -118.666667  1.891334  1.555708"
            ]
          },
          "metadata": {
            "tags": []
          },
          "execution_count": 16
        }
      ]
    },
    {
      "cell_type": "markdown",
      "metadata": {
        "id": "mSN-bfnsBwhn"
      },
      "source": [
        "# **Scénario 2(simulation avec 3 caisses)**"
      ]
    },
    {
      "cell_type": "code",
      "metadata": {
        "colab": {
          "base_uri": "https://localhost:8080/"
        },
        "id": "cFfsoRRiBxfj",
        "outputId": "5b7eb6bb-4dc7-499d-c213-84dd52405dd6"
      },
      "source": [
        "    # Initialiser le calendrier par la 1ère arrivée du 1er client \n",
        "    IX=[0]\n",
        "    IY=[0]\n",
        "    IZ=[0]\n",
        "    IX[0]= int(input(\"Entrez la valeur du premier germe IX: \"))\n",
        "    while (IX[0] <1 or IX[0] >30000):\n",
        "            IX[0] = int(input(\"la valeur que vous avez saisie ne convient pas\"))\n",
        "            \n",
        "    IY[0]= int(input(\"Entrez la valeur du deuxieme germe IY: \"))\n",
        "    while (IY[0] <1 or IY[0] >30000):\n",
        "            IY[0] = int(input(\"la valeur que vous avez saisie ne convient pas\"))\n",
        "            \n",
        "    IZ[0]= int(input(\"Entrez la valeur du dernier germe IZ: \"))\n",
        "    while (IZ[0] <1 or IZ[0] >30000):\n",
        "            IZ[0] = int(input(\"la valeur que vous avez saisie ne convient pas\"))"
      ],
      "execution_count": null,
      "outputs": [
        {
          "output_type": "stream",
          "text": [
            "Entrez la valeur du premier germe IX: 10\n",
            "Entrez la valeur du deuxieme germe IY: 100\n",
            "Entrez la valeur du dernier germe IZ: 1000\n"
          ],
          "name": "stdout"
        }
      ]
    },
    {
      "cell_type": "code",
      "metadata": {
        "id": "bQYSgHqdBxcb"
      },
      "source": [
        "data=[]\n",
        "data_sanspi=[]\n",
        "for k in range(40):   \n",
        "    H = 0        #(* Horloge de simulation *)\n",
        "    i = 1        #(* numéro client arrivé à chaque fois *)\n",
        "    LQ = 0        #(* Longueur Queue *)\n",
        "    NCP = 0      #(* Nombre Clients Perdus *)\n",
        "    NCE = 0       #(* Nombre Clients Entrés *)\n",
        "    C1 = 0        #(* état caisse 1 libre *)\n",
        "    C2 = 0        #(* état caisse 2 libre *)\n",
        "    C3 = 0\n",
        "    t1 = 0\n",
        "    t2 = 0 \n",
        "    t3 = 0\n",
        "    s1 = 0\n",
        "    s2 = 0\n",
        "    s3 = 0\n",
        "    tmp1=0\n",
        "    tmp2=0\n",
        "    DEQ = 0\n",
        "    DSQ = 0\n",
        "    MTS=0\n",
        "    TATmoy=0\n",
        "    TauC1=0\n",
        "    TauC2=0\n",
        "    TauC3=0\n",
        "    Qj=[]\n",
        "    # Initialiser le calendrier par la 1ère arrivée du 1er client \n",
        "    evt=[]\n",
        "    a=aleas(IX,IY,IZ)\n",
        "    evt1=[1,'A',F1(a)]\n",
        "    cal_tri=[evt1]\n",
        "    file=[]\n",
        "    while (len(cal_tri)!=0):\n",
        "        cal_tri=Trier_cal(cal_tri)\n",
        "        evt_sel=select_eve(cal_tri)\n",
        "        H=evt_sel[2]\n",
        "        if (evt_sel[1] == 'A'):\n",
        "              if (LQ <= 1):\n",
        "                NCE = NCE+1\n",
        "                planif_eve([evt_sel[0],'FM',H+F2(aleas(IX,IY,IZ))])\n",
        "              else:\n",
        "                NCP = NCP+1\n",
        "              i=i+1\n",
        "              DA=H+F1(aleas(IX,IY,IZ))\n",
        "              if (DA<=720):\n",
        "                planif_eve([i,'A',DA])\n",
        "        \n",
        "        if (evt_sel[1] == 'FM'):\n",
        "\n",
        "              if (C1==0 or C2==0 or C3==0):\n",
        "                if (C1==0):\n",
        "                  C1=evt_sel[0]\n",
        "                  t1=t1+(H-s1)\n",
        "                  \n",
        "                if (C2==0):\n",
        "                  C2=evt_sel[0] \n",
        "                  t2=t2+(H-s2)\n",
        "                else:\n",
        "                  C3=evt_sel[0] \n",
        "                  t3=t3+(H-s3)\n",
        "                tmp1=H+F3(aleas(IX,IY,IZ))\n",
        "                planif_eve([evt_sel[0],'FP',tmp1])\n",
        "                DEQ=DEQ+tmp1\n",
        "              else :      \n",
        "                LQ=LQ+1\n",
        "                s1=H \n",
        "                s2=H\n",
        "                s3=H\n",
        "                file.append(evt_sel[0])\n",
        "        if (evt_sel[1] == 'FP'):\n",
        "\n",
        "            if (LQ==0):\n",
        "              if (C1==evt_sel[0]):\n",
        "                  C1=0\n",
        "                  \n",
        "              if (C2==evt_sel[0]):\n",
        "                  C2=0\n",
        "              else: \n",
        "                  C3=0\n",
        "            else:\n",
        "              j=file[0]\n",
        "              file.pop(0)\n",
        "              LQ=LQ-1\n",
        "              tj=tj+(H-s1)\n",
        "              Q.append(tj)\n",
        "              if (C1==evt_sel[0]):\n",
        "                C1=j\n",
        "              if(C2==evt_sel[0]):\n",
        "                C2=j\n",
        "              else:\n",
        "                C3=j\n",
        "              tmp2=H+F3(aleas(IX,IY,IZ))\n",
        "              planif_eve([j,'FP',tmp2])\n",
        "              DSQ=DSQ+tmp2\n",
        "              \n",
        "    DFS=H\n",
        "    Qj=[element * (1/DFS) for element in Q]\n",
        "    pi=sum(Qj)\n",
        "    p1=Qj[0]\n",
        "    TauC1=t1/DFS\n",
        "    TauC2=t2/DFS\n",
        "    TauC3=t3/DFS\n",
        "    TATmoy=(DSQ-DEQ)/NCE\n",
        "    TSmoy=(H-DA)/NCE    \n",
        "    data.extend([[DFS,NCE, NCP,TATmoy,TSmoy,TauC1,TauC2,TauC3]])\n",
        "    IX[0]=IX[0]+10+k*10\n",
        "    IY[0]=IY[0]+30+k*30\n",
        "    IZ[0]=IZ[0]+20+k*20\n"
      ],
      "execution_count": null,
      "outputs": []
    },
    {
      "cell_type": "code",
      "metadata": {
        "id": "pUXbPnYIBxZr",
        "colab": {
          "base_uri": "https://localhost:8080/",
          "height": 1000
        },
        "outputId": "a68a2d09-40d7-48b8-e7cc-65a32aed4726"
      },
      "source": [
        "df2 = pd.DataFrame(data, columns =['DFS','NCE', 'NCP','TATmoy','TSmoy','TauC1','TauC2','TauC3',],index=['sim1','sim2','sim3','sim4','sim5','sim6','sim7','sim8','sim9','sim10','sim11','sim12','sim13','sim14','sim15','sim16','sim17','sim18','sim19','sim20','sim21','sim22','sim23','sim24','sim25','sim26','sim27','sim28','sim29','sim30','sim31','sim32','sim33','sim34','sim35','sim36','sim37','sim38','sim39','sim40'])\n",
        "df2"
      ],
      "execution_count": null,
      "outputs": [
        {
          "output_type": "execute_result",
          "data": {
            "text/html": [
              "<div>\n",
              "<style scoped>\n",
              "    .dataframe tbody tr th:only-of-type {\n",
              "        vertical-align: middle;\n",
              "    }\n",
              "\n",
              "    .dataframe tbody tr th {\n",
              "        vertical-align: top;\n",
              "    }\n",
              "\n",
              "    .dataframe thead th {\n",
              "        text-align: right;\n",
              "    }\n",
              "</style>\n",
              "<table border=\"1\" class=\"dataframe\">\n",
              "  <thead>\n",
              "    <tr style=\"text-align: right;\">\n",
              "      <th></th>\n",
              "      <th>DFS</th>\n",
              "      <th>NCE</th>\n",
              "      <th>NCP</th>\n",
              "      <th>TATmoy</th>\n",
              "      <th>TSmoy</th>\n",
              "      <th>TauC1</th>\n",
              "      <th>TauC2</th>\n",
              "      <th>TauC3</th>\n",
              "    </tr>\n",
              "  </thead>\n",
              "  <tbody>\n",
              "    <tr>\n",
              "      <th>sim1</th>\n",
              "      <td>726</td>\n",
              "      <td>342</td>\n",
              "      <td>6</td>\n",
              "      <td>-122.146199</td>\n",
              "      <td>0.014620</td>\n",
              "      <td>1.844353</td>\n",
              "      <td>1.844353</td>\n",
              "      <td>1.511019</td>\n",
              "    </tr>\n",
              "    <tr>\n",
              "      <th>sim2</th>\n",
              "      <td>728</td>\n",
              "      <td>349</td>\n",
              "      <td>10</td>\n",
              "      <td>-125.074499</td>\n",
              "      <td>0.017192</td>\n",
              "      <td>1.486264</td>\n",
              "      <td>1.486264</td>\n",
              "      <td>1.182692</td>\n",
              "    </tr>\n",
              "    <tr>\n",
              "      <th>sim3</th>\n",
              "      <td>727</td>\n",
              "      <td>326</td>\n",
              "      <td>12</td>\n",
              "      <td>-124.690184</td>\n",
              "      <td>0.018405</td>\n",
              "      <td>2.287483</td>\n",
              "      <td>2.287483</td>\n",
              "      <td>1.766162</td>\n",
              "    </tr>\n",
              "    <tr>\n",
              "      <th>sim4</th>\n",
              "      <td>730</td>\n",
              "      <td>356</td>\n",
              "      <td>3</td>\n",
              "      <td>-116.775281</td>\n",
              "      <td>0.016854</td>\n",
              "      <td>1.608219</td>\n",
              "      <td>1.608219</td>\n",
              "      <td>1.397260</td>\n",
              "    </tr>\n",
              "    <tr>\n",
              "      <th>sim5</th>\n",
              "      <td>729</td>\n",
              "      <td>336</td>\n",
              "      <td>8</td>\n",
              "      <td>-170.196429</td>\n",
              "      <td>0.023810</td>\n",
              "      <td>2.124829</td>\n",
              "      <td>2.124829</td>\n",
              "      <td>1.851852</td>\n",
              "    </tr>\n",
              "    <tr>\n",
              "      <th>sim6</th>\n",
              "      <td>730</td>\n",
              "      <td>341</td>\n",
              "      <td>7</td>\n",
              "      <td>-128.096774</td>\n",
              "      <td>0.026393</td>\n",
              "      <td>2.143836</td>\n",
              "      <td>2.143836</td>\n",
              "      <td>1.536986</td>\n",
              "    </tr>\n",
              "    <tr>\n",
              "      <th>sim7</th>\n",
              "      <td>729</td>\n",
              "      <td>328</td>\n",
              "      <td>11</td>\n",
              "      <td>-135.423780</td>\n",
              "      <td>0.024390</td>\n",
              "      <td>1.914952</td>\n",
              "      <td>1.914952</td>\n",
              "      <td>1.566529</td>\n",
              "    </tr>\n",
              "    <tr>\n",
              "      <th>sim8</th>\n",
              "      <td>732</td>\n",
              "      <td>335</td>\n",
              "      <td>10</td>\n",
              "      <td>-134.414925</td>\n",
              "      <td>0.029851</td>\n",
              "      <td>1.908470</td>\n",
              "      <td>1.908470</td>\n",
              "      <td>1.445355</td>\n",
              "    </tr>\n",
              "    <tr>\n",
              "      <th>sim9</th>\n",
              "      <td>724</td>\n",
              "      <td>345</td>\n",
              "      <td>13</td>\n",
              "      <td>-103.008696</td>\n",
              "      <td>0.008696</td>\n",
              "      <td>1.607735</td>\n",
              "      <td>1.607735</td>\n",
              "      <td>1.339779</td>\n",
              "    </tr>\n",
              "    <tr>\n",
              "      <th>sim10</th>\n",
              "      <td>725</td>\n",
              "      <td>340</td>\n",
              "      <td>10</td>\n",
              "      <td>-98.667647</td>\n",
              "      <td>0.008824</td>\n",
              "      <td>2.053793</td>\n",
              "      <td>2.053793</td>\n",
              "      <td>1.573793</td>\n",
              "    </tr>\n",
              "    <tr>\n",
              "      <th>sim11</th>\n",
              "      <td>726</td>\n",
              "      <td>327</td>\n",
              "      <td>10</td>\n",
              "      <td>-149.440367</td>\n",
              "      <td>0.015291</td>\n",
              "      <td>2.490358</td>\n",
              "      <td>2.490358</td>\n",
              "      <td>1.924242</td>\n",
              "    </tr>\n",
              "    <tr>\n",
              "      <th>sim12</th>\n",
              "      <td>725</td>\n",
              "      <td>331</td>\n",
              "      <td>9</td>\n",
              "      <td>-109.966767</td>\n",
              "      <td>0.009063</td>\n",
              "      <td>1.871724</td>\n",
              "      <td>1.871724</td>\n",
              "      <td>1.526897</td>\n",
              "    </tr>\n",
              "    <tr>\n",
              "      <th>sim13</th>\n",
              "      <td>732</td>\n",
              "      <td>340</td>\n",
              "      <td>13</td>\n",
              "      <td>-65.517647</td>\n",
              "      <td>0.029412</td>\n",
              "      <td>1.580601</td>\n",
              "      <td>1.580601</td>\n",
              "      <td>1.094262</td>\n",
              "    </tr>\n",
              "    <tr>\n",
              "      <th>sim14</th>\n",
              "      <td>732</td>\n",
              "      <td>335</td>\n",
              "      <td>12</td>\n",
              "      <td>-100.477612</td>\n",
              "      <td>0.032836</td>\n",
              "      <td>1.773224</td>\n",
              "      <td>1.773224</td>\n",
              "      <td>1.442623</td>\n",
              "    </tr>\n",
              "    <tr>\n",
              "      <th>sim15</th>\n",
              "      <td>728</td>\n",
              "      <td>332</td>\n",
              "      <td>11</td>\n",
              "      <td>-104.099398</td>\n",
              "      <td>0.021084</td>\n",
              "      <td>1.824176</td>\n",
              "      <td>1.824176</td>\n",
              "      <td>1.300824</td>\n",
              "    </tr>\n",
              "    <tr>\n",
              "      <th>sim16</th>\n",
              "      <td>729</td>\n",
              "      <td>337</td>\n",
              "      <td>7</td>\n",
              "      <td>-146.370920</td>\n",
              "      <td>0.020772</td>\n",
              "      <td>1.994513</td>\n",
              "      <td>1.994513</td>\n",
              "      <td>1.482853</td>\n",
              "    </tr>\n",
              "    <tr>\n",
              "      <th>sim17</th>\n",
              "      <td>728</td>\n",
              "      <td>331</td>\n",
              "      <td>11</td>\n",
              "      <td>-84.290030</td>\n",
              "      <td>0.021148</td>\n",
              "      <td>1.679945</td>\n",
              "      <td>1.679945</td>\n",
              "      <td>1.245879</td>\n",
              "    </tr>\n",
              "    <tr>\n",
              "      <th>sim18</th>\n",
              "      <td>729</td>\n",
              "      <td>339</td>\n",
              "      <td>10</td>\n",
              "      <td>-123.297935</td>\n",
              "      <td>0.020649</td>\n",
              "      <td>1.676269</td>\n",
              "      <td>1.676269</td>\n",
              "      <td>1.484225</td>\n",
              "    </tr>\n",
              "    <tr>\n",
              "      <th>sim19</th>\n",
              "      <td>731</td>\n",
              "      <td>343</td>\n",
              "      <td>10</td>\n",
              "      <td>-147.565598</td>\n",
              "      <td>0.020408</td>\n",
              "      <td>1.879617</td>\n",
              "      <td>1.879617</td>\n",
              "      <td>1.525308</td>\n",
              "    </tr>\n",
              "    <tr>\n",
              "      <th>sim20</th>\n",
              "      <td>727</td>\n",
              "      <td>342</td>\n",
              "      <td>6</td>\n",
              "      <td>-140.774854</td>\n",
              "      <td>0.017544</td>\n",
              "      <td>1.800550</td>\n",
              "      <td>1.800550</td>\n",
              "      <td>1.444292</td>\n",
              "    </tr>\n",
              "    <tr>\n",
              "      <th>sim21</th>\n",
              "      <td>730</td>\n",
              "      <td>333</td>\n",
              "      <td>5</td>\n",
              "      <td>-124.297297</td>\n",
              "      <td>0.024024</td>\n",
              "      <td>1.794521</td>\n",
              "      <td>1.794521</td>\n",
              "      <td>1.282192</td>\n",
              "    </tr>\n",
              "    <tr>\n",
              "      <th>sim22</th>\n",
              "      <td>727</td>\n",
              "      <td>338</td>\n",
              "      <td>11</td>\n",
              "      <td>-99.979290</td>\n",
              "      <td>0.014793</td>\n",
              "      <td>1.470426</td>\n",
              "      <td>1.470426</td>\n",
              "      <td>1.221458</td>\n",
              "    </tr>\n",
              "    <tr>\n",
              "      <th>sim23</th>\n",
              "      <td>726</td>\n",
              "      <td>337</td>\n",
              "      <td>10</td>\n",
              "      <td>-95.317507</td>\n",
              "      <td>0.014837</td>\n",
              "      <td>1.707989</td>\n",
              "      <td>1.707989</td>\n",
              "      <td>1.265840</td>\n",
              "    </tr>\n",
              "    <tr>\n",
              "      <th>sim24</th>\n",
              "      <td>726</td>\n",
              "      <td>343</td>\n",
              "      <td>10</td>\n",
              "      <td>-154.647230</td>\n",
              "      <td>0.008746</td>\n",
              "      <td>1.973829</td>\n",
              "      <td>1.973829</td>\n",
              "      <td>1.487603</td>\n",
              "    </tr>\n",
              "    <tr>\n",
              "      <th>sim25</th>\n",
              "      <td>730</td>\n",
              "      <td>339</td>\n",
              "      <td>12</td>\n",
              "      <td>-111.796460</td>\n",
              "      <td>0.020649</td>\n",
              "      <td>1.632877</td>\n",
              "      <td>1.632877</td>\n",
              "      <td>1.145205</td>\n",
              "    </tr>\n",
              "    <tr>\n",
              "      <th>sim26</th>\n",
              "      <td>728</td>\n",
              "      <td>337</td>\n",
              "      <td>14</td>\n",
              "      <td>-133.329377</td>\n",
              "      <td>0.020772</td>\n",
              "      <td>1.739011</td>\n",
              "      <td>1.739011</td>\n",
              "      <td>1.373626</td>\n",
              "    </tr>\n",
              "    <tr>\n",
              "      <th>sim27</th>\n",
              "      <td>728</td>\n",
              "      <td>347</td>\n",
              "      <td>9</td>\n",
              "      <td>-126.723343</td>\n",
              "      <td>0.020173</td>\n",
              "      <td>1.471154</td>\n",
              "      <td>1.471154</td>\n",
              "      <td>1.259615</td>\n",
              "    </tr>\n",
              "    <tr>\n",
              "      <th>sim28</th>\n",
              "      <td>733</td>\n",
              "      <td>336</td>\n",
              "      <td>12</td>\n",
              "      <td>-126.449405</td>\n",
              "      <td>0.032738</td>\n",
              "      <td>1.634379</td>\n",
              "      <td>1.634379</td>\n",
              "      <td>1.317872</td>\n",
              "    </tr>\n",
              "    <tr>\n",
              "      <th>sim29</th>\n",
              "      <td>725</td>\n",
              "      <td>339</td>\n",
              "      <td>14</td>\n",
              "      <td>-78.519174</td>\n",
              "      <td>0.011799</td>\n",
              "      <td>1.655172</td>\n",
              "      <td>1.655172</td>\n",
              "      <td>1.209655</td>\n",
              "    </tr>\n",
              "    <tr>\n",
              "      <th>sim30</th>\n",
              "      <td>732</td>\n",
              "      <td>340</td>\n",
              "      <td>14</td>\n",
              "      <td>-84.688235</td>\n",
              "      <td>0.032353</td>\n",
              "      <td>1.637978</td>\n",
              "      <td>1.637978</td>\n",
              "      <td>1.230874</td>\n",
              "    </tr>\n",
              "    <tr>\n",
              "      <th>sim31</th>\n",
              "      <td>732</td>\n",
              "      <td>337</td>\n",
              "      <td>10</td>\n",
              "      <td>-143.008902</td>\n",
              "      <td>0.032641</td>\n",
              "      <td>1.663934</td>\n",
              "      <td>1.663934</td>\n",
              "      <td>1.325137</td>\n",
              "    </tr>\n",
              "    <tr>\n",
              "      <th>sim32</th>\n",
              "      <td>731</td>\n",
              "      <td>354</td>\n",
              "      <td>5</td>\n",
              "      <td>-104.824859</td>\n",
              "      <td>0.025424</td>\n",
              "      <td>1.537620</td>\n",
              "      <td>1.537620</td>\n",
              "      <td>1.288646</td>\n",
              "    </tr>\n",
              "    <tr>\n",
              "      <th>sim33</th>\n",
              "      <td>729</td>\n",
              "      <td>338</td>\n",
              "      <td>11</td>\n",
              "      <td>-113.556213</td>\n",
              "      <td>0.023669</td>\n",
              "      <td>1.816187</td>\n",
              "      <td>1.816187</td>\n",
              "      <td>1.454047</td>\n",
              "    </tr>\n",
              "    <tr>\n",
              "      <th>sim34</th>\n",
              "      <td>727</td>\n",
              "      <td>346</td>\n",
              "      <td>10</td>\n",
              "      <td>-70.205202</td>\n",
              "      <td>0.014451</td>\n",
              "      <td>1.429161</td>\n",
              "      <td>1.429161</td>\n",
              "      <td>1.133425</td>\n",
              "    </tr>\n",
              "    <tr>\n",
              "      <th>sim35</th>\n",
              "      <td>728</td>\n",
              "      <td>348</td>\n",
              "      <td>12</td>\n",
              "      <td>-92.405172</td>\n",
              "      <td>0.020115</td>\n",
              "      <td>1.961538</td>\n",
              "      <td>1.961538</td>\n",
              "      <td>1.497253</td>\n",
              "    </tr>\n",
              "    <tr>\n",
              "      <th>sim36</th>\n",
              "      <td>728</td>\n",
              "      <td>337</td>\n",
              "      <td>8</td>\n",
              "      <td>-125.777448</td>\n",
              "      <td>0.017804</td>\n",
              "      <td>1.987637</td>\n",
              "      <td>1.987637</td>\n",
              "      <td>1.697802</td>\n",
              "    </tr>\n",
              "    <tr>\n",
              "      <th>sim37</th>\n",
              "      <td>729</td>\n",
              "      <td>348</td>\n",
              "      <td>8</td>\n",
              "      <td>-119.813218</td>\n",
              "      <td>0.020115</td>\n",
              "      <td>1.740741</td>\n",
              "      <td>1.740741</td>\n",
              "      <td>1.316872</td>\n",
              "    </tr>\n",
              "    <tr>\n",
              "      <th>sim38</th>\n",
              "      <td>726</td>\n",
              "      <td>326</td>\n",
              "      <td>10</td>\n",
              "      <td>-124.803681</td>\n",
              "      <td>0.009202</td>\n",
              "      <td>1.884298</td>\n",
              "      <td>1.884298</td>\n",
              "      <td>1.414601</td>\n",
              "    </tr>\n",
              "    <tr>\n",
              "      <th>sim39</th>\n",
              "      <td>726</td>\n",
              "      <td>342</td>\n",
              "      <td>14</td>\n",
              "      <td>-68.877193</td>\n",
              "      <td>0.014620</td>\n",
              "      <td>1.439394</td>\n",
              "      <td>1.439394</td>\n",
              "      <td>1.213499</td>\n",
              "    </tr>\n",
              "    <tr>\n",
              "      <th>sim40</th>\n",
              "      <td>727</td>\n",
              "      <td>342</td>\n",
              "      <td>10</td>\n",
              "      <td>-118.666667</td>\n",
              "      <td>0.014620</td>\n",
              "      <td>1.891334</td>\n",
              "      <td>1.891334</td>\n",
              "      <td>1.555708</td>\n",
              "    </tr>\n",
              "  </tbody>\n",
              "</table>\n",
              "</div>"
            ],
            "text/plain": [
              "       DFS  NCE  NCP      TATmoy     TSmoy     TauC1     TauC2     TauC3\n",
              "sim1   726  342    6 -122.146199  0.014620  1.844353  1.844353  1.511019\n",
              "sim2   728  349   10 -125.074499  0.017192  1.486264  1.486264  1.182692\n",
              "sim3   727  326   12 -124.690184  0.018405  2.287483  2.287483  1.766162\n",
              "sim4   730  356    3 -116.775281  0.016854  1.608219  1.608219  1.397260\n",
              "sim5   729  336    8 -170.196429  0.023810  2.124829  2.124829  1.851852\n",
              "sim6   730  341    7 -128.096774  0.026393  2.143836  2.143836  1.536986\n",
              "sim7   729  328   11 -135.423780  0.024390  1.914952  1.914952  1.566529\n",
              "sim8   732  335   10 -134.414925  0.029851  1.908470  1.908470  1.445355\n",
              "sim9   724  345   13 -103.008696  0.008696  1.607735  1.607735  1.339779\n",
              "sim10  725  340   10  -98.667647  0.008824  2.053793  2.053793  1.573793\n",
              "sim11  726  327   10 -149.440367  0.015291  2.490358  2.490358  1.924242\n",
              "sim12  725  331    9 -109.966767  0.009063  1.871724  1.871724  1.526897\n",
              "sim13  732  340   13  -65.517647  0.029412  1.580601  1.580601  1.094262\n",
              "sim14  732  335   12 -100.477612  0.032836  1.773224  1.773224  1.442623\n",
              "sim15  728  332   11 -104.099398  0.021084  1.824176  1.824176  1.300824\n",
              "sim16  729  337    7 -146.370920  0.020772  1.994513  1.994513  1.482853\n",
              "sim17  728  331   11  -84.290030  0.021148  1.679945  1.679945  1.245879\n",
              "sim18  729  339   10 -123.297935  0.020649  1.676269  1.676269  1.484225\n",
              "sim19  731  343   10 -147.565598  0.020408  1.879617  1.879617  1.525308\n",
              "sim20  727  342    6 -140.774854  0.017544  1.800550  1.800550  1.444292\n",
              "sim21  730  333    5 -124.297297  0.024024  1.794521  1.794521  1.282192\n",
              "sim22  727  338   11  -99.979290  0.014793  1.470426  1.470426  1.221458\n",
              "sim23  726  337   10  -95.317507  0.014837  1.707989  1.707989  1.265840\n",
              "sim24  726  343   10 -154.647230  0.008746  1.973829  1.973829  1.487603\n",
              "sim25  730  339   12 -111.796460  0.020649  1.632877  1.632877  1.145205\n",
              "sim26  728  337   14 -133.329377  0.020772  1.739011  1.739011  1.373626\n",
              "sim27  728  347    9 -126.723343  0.020173  1.471154  1.471154  1.259615\n",
              "sim28  733  336   12 -126.449405  0.032738  1.634379  1.634379  1.317872\n",
              "sim29  725  339   14  -78.519174  0.011799  1.655172  1.655172  1.209655\n",
              "sim30  732  340   14  -84.688235  0.032353  1.637978  1.637978  1.230874\n",
              "sim31  732  337   10 -143.008902  0.032641  1.663934  1.663934  1.325137\n",
              "sim32  731  354    5 -104.824859  0.025424  1.537620  1.537620  1.288646\n",
              "sim33  729  338   11 -113.556213  0.023669  1.816187  1.816187  1.454047\n",
              "sim34  727  346   10  -70.205202  0.014451  1.429161  1.429161  1.133425\n",
              "sim35  728  348   12  -92.405172  0.020115  1.961538  1.961538  1.497253\n",
              "sim36  728  337    8 -125.777448  0.017804  1.987637  1.987637  1.697802\n",
              "sim37  729  348    8 -119.813218  0.020115  1.740741  1.740741  1.316872\n",
              "sim38  726  326   10 -124.803681  0.009202  1.884298  1.884298  1.414601\n",
              "sim39  726  342   14  -68.877193  0.014620  1.439394  1.439394  1.213499\n",
              "sim40  727  342   10 -118.666667  0.014620  1.891334  1.891334  1.555708"
            ]
          },
          "metadata": {
            "tags": []
          },
          "execution_count": 13
        }
      ]
    },
    {
      "cell_type": "code",
      "metadata": {
        "id": "Nd5ZorDu3CnV"
      },
      "source": [
        ""
      ],
      "execution_count": null,
      "outputs": []
    },
    {
      "cell_type": "markdown",
      "metadata": {
        "id": "c-79dwhoStT6"
      },
      "source": [
        "description du scénario 1"
      ]
    },
    {
      "cell_type": "code",
      "metadata": {
        "colab": {
          "base_uri": "https://localhost:8080/",
          "height": 300
        },
        "id": "iToUVVZHB0_5",
        "outputId": "73869b13-4241-4951-de66-d596a925a40d"
      },
      "source": [
        "df1.describe()"
      ],
      "execution_count": null,
      "outputs": [
        {
          "output_type": "execute_result",
          "data": {
            "text/html": [
              "<div>\n",
              "<style scoped>\n",
              "    .dataframe tbody tr th:only-of-type {\n",
              "        vertical-align: middle;\n",
              "    }\n",
              "\n",
              "    .dataframe tbody tr th {\n",
              "        vertical-align: top;\n",
              "    }\n",
              "\n",
              "    .dataframe thead th {\n",
              "        text-align: right;\n",
              "    }\n",
              "</style>\n",
              "<table border=\"1\" class=\"dataframe\">\n",
              "  <thead>\n",
              "    <tr style=\"text-align: right;\">\n",
              "      <th></th>\n",
              "      <th>DFS</th>\n",
              "      <th>NCE</th>\n",
              "      <th>NCP</th>\n",
              "      <th>TSmoy</th>\n",
              "      <th>TATmoy</th>\n",
              "      <th>TauC1</th>\n",
              "      <th>TauC2</th>\n",
              "    </tr>\n",
              "  </thead>\n",
              "  <tbody>\n",
              "    <tr>\n",
              "      <th>count</th>\n",
              "      <td>40.000000</td>\n",
              "      <td>40.000000</td>\n",
              "      <td>40.000000</td>\n",
              "      <td>40.000000</td>\n",
              "      <td>40.000000</td>\n",
              "      <td>40.000000</td>\n",
              "      <td>40.000000</td>\n",
              "    </tr>\n",
              "    <tr>\n",
              "      <th>mean</th>\n",
              "      <td>728.375000</td>\n",
              "      <td>339.050000</td>\n",
              "      <td>9.950000</td>\n",
              "      <td>0.019770</td>\n",
              "      <td>-116.199535</td>\n",
              "      <td>1.790502</td>\n",
              "      <td>1.408344</td>\n",
              "    </tr>\n",
              "    <tr>\n",
              "      <th>std</th>\n",
              "      <td>2.328062</td>\n",
              "      <td>6.957564</td>\n",
              "      <td>2.630687</td>\n",
              "      <td>0.006923</td>\n",
              "      <td>24.413463</td>\n",
              "      <td>0.233348</td>\n",
              "      <td>0.190374</td>\n",
              "    </tr>\n",
              "    <tr>\n",
              "      <th>min</th>\n",
              "      <td>724.000000</td>\n",
              "      <td>326.000000</td>\n",
              "      <td>3.000000</td>\n",
              "      <td>0.008696</td>\n",
              "      <td>-170.196429</td>\n",
              "      <td>1.429161</td>\n",
              "      <td>1.094262</td>\n",
              "    </tr>\n",
              "    <tr>\n",
              "      <th>25%</th>\n",
              "      <td>726.750000</td>\n",
              "      <td>335.750000</td>\n",
              "      <td>8.750000</td>\n",
              "      <td>0.014750</td>\n",
              "      <td>-129.404925</td>\n",
              "      <td>1.634004</td>\n",
              "      <td>1.264284</td>\n",
              "    </tr>\n",
              "    <tr>\n",
              "      <th>50%</th>\n",
              "      <td>728.000000</td>\n",
              "      <td>339.000000</td>\n",
              "      <td>10.000000</td>\n",
              "      <td>0.020144</td>\n",
              "      <td>-120.979709</td>\n",
              "      <td>1.783872</td>\n",
              "      <td>1.405930</td>\n",
              "    </tr>\n",
              "    <tr>\n",
              "      <th>75%</th>\n",
              "      <td>730.000000</td>\n",
              "      <td>342.250000</td>\n",
              "      <td>12.000000</td>\n",
              "      <td>0.023863</td>\n",
              "      <td>-100.353031</td>\n",
              "      <td>1.910090</td>\n",
              "      <td>1.514591</td>\n",
              "    </tr>\n",
              "    <tr>\n",
              "      <th>max</th>\n",
              "      <td>733.000000</td>\n",
              "      <td>356.000000</td>\n",
              "      <td>14.000000</td>\n",
              "      <td>0.032836</td>\n",
              "      <td>-65.517647</td>\n",
              "      <td>2.490358</td>\n",
              "      <td>1.924242</td>\n",
              "    </tr>\n",
              "  </tbody>\n",
              "</table>\n",
              "</div>"
            ],
            "text/plain": [
              "              DFS         NCE        NCP  ...      TATmoy      TauC1      TauC2\n",
              "count   40.000000   40.000000  40.000000  ...   40.000000  40.000000  40.000000\n",
              "mean   728.375000  339.050000   9.950000  ... -116.199535   1.790502   1.408344\n",
              "std      2.328062    6.957564   2.630687  ...   24.413463   0.233348   0.190374\n",
              "min    724.000000  326.000000   3.000000  ... -170.196429   1.429161   1.094262\n",
              "25%    726.750000  335.750000   8.750000  ... -129.404925   1.634004   1.264284\n",
              "50%    728.000000  339.000000  10.000000  ... -120.979709   1.783872   1.405930\n",
              "75%    730.000000  342.250000  12.000000  ... -100.353031   1.910090   1.514591\n",
              "max    733.000000  356.000000  14.000000  ...  -65.517647   2.490358   1.924242\n",
              "\n",
              "[8 rows x 7 columns]"
            ]
          },
          "metadata": {
            "tags": []
          },
          "execution_count": 17
        }
      ]
    },
    {
      "cell_type": "markdown",
      "metadata": {
        "id": "ocfH4QspSQG9"
      },
      "source": [
        "description des données du scénario 2\n",
        "\n",
        "\n",
        "\n"
      ]
    },
    {
      "cell_type": "code",
      "metadata": {
        "colab": {
          "base_uri": "https://localhost:8080/",
          "height": 300
        },
        "id": "ZGqwOI3o3dBl",
        "outputId": "42a70230-a195-449a-cc92-511977e8ab86"
      },
      "source": [
        "df2.describe()"
      ],
      "execution_count": null,
      "outputs": [
        {
          "output_type": "execute_result",
          "data": {
            "text/html": [
              "<div>\n",
              "<style scoped>\n",
              "    .dataframe tbody tr th:only-of-type {\n",
              "        vertical-align: middle;\n",
              "    }\n",
              "\n",
              "    .dataframe tbody tr th {\n",
              "        vertical-align: top;\n",
              "    }\n",
              "\n",
              "    .dataframe thead th {\n",
              "        text-align: right;\n",
              "    }\n",
              "</style>\n",
              "<table border=\"1\" class=\"dataframe\">\n",
              "  <thead>\n",
              "    <tr style=\"text-align: right;\">\n",
              "      <th></th>\n",
              "      <th>DFS</th>\n",
              "      <th>NCE</th>\n",
              "      <th>NCP</th>\n",
              "      <th>TATmoy</th>\n",
              "      <th>TSmoy</th>\n",
              "      <th>TauC1</th>\n",
              "      <th>TauC2</th>\n",
              "      <th>TauC3</th>\n",
              "    </tr>\n",
              "  </thead>\n",
              "  <tbody>\n",
              "    <tr>\n",
              "      <th>count</th>\n",
              "      <td>40.000000</td>\n",
              "      <td>40.000000</td>\n",
              "      <td>40.000000</td>\n",
              "      <td>40.000000</td>\n",
              "      <td>40.000000</td>\n",
              "      <td>40.000000</td>\n",
              "      <td>40.000000</td>\n",
              "      <td>40.000000</td>\n",
              "    </tr>\n",
              "    <tr>\n",
              "      <th>mean</th>\n",
              "      <td>728.375000</td>\n",
              "      <td>339.050000</td>\n",
              "      <td>9.950000</td>\n",
              "      <td>-116.199535</td>\n",
              "      <td>0.019770</td>\n",
              "      <td>1.790502</td>\n",
              "      <td>1.790502</td>\n",
              "      <td>1.408344</td>\n",
              "    </tr>\n",
              "    <tr>\n",
              "      <th>std</th>\n",
              "      <td>2.328062</td>\n",
              "      <td>6.957564</td>\n",
              "      <td>2.630687</td>\n",
              "      <td>24.413463</td>\n",
              "      <td>0.006923</td>\n",
              "      <td>0.233348</td>\n",
              "      <td>0.233348</td>\n",
              "      <td>0.190374</td>\n",
              "    </tr>\n",
              "    <tr>\n",
              "      <th>min</th>\n",
              "      <td>724.000000</td>\n",
              "      <td>326.000000</td>\n",
              "      <td>3.000000</td>\n",
              "      <td>-170.196429</td>\n",
              "      <td>0.008696</td>\n",
              "      <td>1.429161</td>\n",
              "      <td>1.429161</td>\n",
              "      <td>1.094262</td>\n",
              "    </tr>\n",
              "    <tr>\n",
              "      <th>25%</th>\n",
              "      <td>726.750000</td>\n",
              "      <td>335.750000</td>\n",
              "      <td>8.750000</td>\n",
              "      <td>-129.404925</td>\n",
              "      <td>0.014750</td>\n",
              "      <td>1.634004</td>\n",
              "      <td>1.634004</td>\n",
              "      <td>1.264284</td>\n",
              "    </tr>\n",
              "    <tr>\n",
              "      <th>50%</th>\n",
              "      <td>728.000000</td>\n",
              "      <td>339.000000</td>\n",
              "      <td>10.000000</td>\n",
              "      <td>-120.979709</td>\n",
              "      <td>0.020144</td>\n",
              "      <td>1.783872</td>\n",
              "      <td>1.783872</td>\n",
              "      <td>1.405930</td>\n",
              "    </tr>\n",
              "    <tr>\n",
              "      <th>75%</th>\n",
              "      <td>730.000000</td>\n",
              "      <td>342.250000</td>\n",
              "      <td>12.000000</td>\n",
              "      <td>-100.353031</td>\n",
              "      <td>0.023863</td>\n",
              "      <td>1.910090</td>\n",
              "      <td>1.910090</td>\n",
              "      <td>1.514591</td>\n",
              "    </tr>\n",
              "    <tr>\n",
              "      <th>max</th>\n",
              "      <td>733.000000</td>\n",
              "      <td>356.000000</td>\n",
              "      <td>14.000000</td>\n",
              "      <td>-65.517647</td>\n",
              "      <td>0.032836</td>\n",
              "      <td>2.490358</td>\n",
              "      <td>2.490358</td>\n",
              "      <td>1.924242</td>\n",
              "    </tr>\n",
              "  </tbody>\n",
              "</table>\n",
              "</div>"
            ],
            "text/plain": [
              "              DFS         NCE        NCP  ...      TauC1      TauC2      TauC3\n",
              "count   40.000000   40.000000  40.000000  ...  40.000000  40.000000  40.000000\n",
              "mean   728.375000  339.050000   9.950000  ...   1.790502   1.790502   1.408344\n",
              "std      2.328062    6.957564   2.630687  ...   0.233348   0.233348   0.190374\n",
              "min    724.000000  326.000000   3.000000  ...   1.429161   1.429161   1.094262\n",
              "25%    726.750000  335.750000   8.750000  ...   1.634004   1.634004   1.264284\n",
              "50%    728.000000  339.000000  10.000000  ...   1.783872   1.783872   1.405930\n",
              "75%    730.000000  342.250000  12.000000  ...   1.910090   1.910090   1.514591\n",
              "max    733.000000  356.000000  14.000000  ...   2.490358   2.490358   1.924242\n",
              "\n",
              "[8 rows x 8 columns]"
            ]
          },
          "metadata": {
            "tags": []
          },
          "execution_count": 15
        }
      ]
    },
    {
      "cell_type": "code",
      "metadata": {
        "colab": {
          "base_uri": "https://localhost:8080/"
        },
        "id": "JKJsCEgLdA-E",
        "outputId": "b60268f3-6777-4758-f0a1-c211d67484dc"
      },
      "source": [
        "IC1 = intervalle_confiance(df1['NCP'])\n",
        "IC1"
      ],
      "execution_count": null,
      "outputs": [
        {
          "output_type": "execute_result",
          "data": {
            "text/plain": [
              "[131.495, 143.255]"
            ]
          },
          "metadata": {
            "tags": []
          },
          "execution_count": 32
        }
      ]
    },
    {
      "cell_type": "code",
      "metadata": {
        "colab": {
          "base_uri": "https://localhost:8080/"
        },
        "id": "8uVKZS_LdXCQ",
        "outputId": "380b20a3-6039-4c7d-a7e3-6804697a1215"
      },
      "source": [
        "IC2 = intervalle_confiance(df2['NCP'])\n",
        "IC2"
      ],
      "execution_count": null,
      "outputs": [
        {
          "output_type": "execute_result",
          "data": {
            "text/plain": [
              "[127.345, 139.105]"
            ]
          },
          "metadata": {
            "tags": []
          },
          "execution_count": 33
        }
      ]
    },
    {
      "cell_type": "markdown",
      "metadata": {
        "id": "9LZUh_V_PpmY"
      },
      "source": [
        "# **Représentation graphique**"
      ]
    },
    {
      "cell_type": "markdown",
      "metadata": {
        "id": "Kyk2lBK-P95H"
      },
      "source": [
        "# *Scénario 1*"
      ]
    },
    {
      "cell_type": "code",
      "metadata": {
        "colab": {
          "base_uri": "https://localhost:8080/",
          "height": 315
        },
        "id": "unGIoi8FHfsO",
        "outputId": "b7896848-873e-432b-b6b3-8f23f0db2e31"
      },
      "source": [
        "df1_sanspi.plot.bar(rot=0,figsize=(60,14))\n",
        "from google.colab import files\n",
        "plt.savefig(\"abc.png\")\n",
        "files.download(\"abc.png\") "
      ],
      "execution_count": null,
      "outputs": [
        {
          "output_type": "display_data",
          "data": {
            "application/javascript": [
              "\n",
              "    async function download(id, filename, size) {\n",
              "      if (!google.colab.kernel.accessAllowed) {\n",
              "        return;\n",
              "      }\n",
              "      const div = document.createElement('div');\n",
              "      const label = document.createElement('label');\n",
              "      label.textContent = `Downloading \"${filename}\": `;\n",
              "      div.appendChild(label);\n",
              "      const progress = document.createElement('progress');\n",
              "      progress.max = size;\n",
              "      div.appendChild(progress);\n",
              "      document.body.appendChild(div);\n",
              "\n",
              "      const buffers = [];\n",
              "      let downloaded = 0;\n",
              "\n",
              "      const channel = await google.colab.kernel.comms.open(id);\n",
              "      // Send a message to notify the kernel that we're ready.\n",
              "      channel.send({})\n",
              "\n",
              "      for await (const message of channel.messages) {\n",
              "        // Send a message to notify the kernel that we're ready.\n",
              "        channel.send({})\n",
              "        if (message.buffers) {\n",
              "          for (const buffer of message.buffers) {\n",
              "            buffers.push(buffer);\n",
              "            downloaded += buffer.byteLength;\n",
              "            progress.value = downloaded;\n",
              "          }\n",
              "        }\n",
              "      }\n",
              "      const blob = new Blob(buffers, {type: 'application/binary'});\n",
              "      const a = document.createElement('a');\n",
              "      a.href = window.URL.createObjectURL(blob);\n",
              "      a.download = filename;\n",
              "      div.appendChild(a);\n",
              "      a.click();\n",
              "      div.remove();\n",
              "    }\n",
              "  "
            ],
            "text/plain": [
              "<IPython.core.display.Javascript object>"
            ]
          },
          "metadata": {
            "tags": []
          }
        },
        {
          "output_type": "display_data",
          "data": {
            "application/javascript": [
              "download(\"download_c00af0be-2aad-4be2-b0d0-b2bc5d81dd32\", \"abc.png\", 36239)"
            ],
            "text/plain": [
              "<IPython.core.display.Javascript object>"
            ]
          },
          "metadata": {
            "tags": []
          }
        },
        {
          "output_type": "display_data",
          "data": {
            "image/png": "[encoded data removed]",
            "text/plain": [
              "<Figure size 4320x1008 with 1 Axes>"
            ]
          },
          "metadata": {
            "tags": [],
            "needs_background": "light"
          }
        }
      ]
    },
    {
      "cell_type": "code",
      "metadata": {
        "colab": {
          "base_uri": "https://localhost:8080/",
          "height": 683
        },
        "id": "DA52xdTdBGcV",
        "outputId": "2d5d85a9-3e4f-4132-c65e-560ab17f2c71"
      },
      "source": [
        "df1_sanspi.plot.bar(stacked=True,figsize=(24, 11))"
      ],
      "execution_count": null,
      "outputs": [
        {
          "output_type": "execute_result",
          "data": {
            "text/plain": [
              "<matplotlib.axes._subplots.AxesSubplot at 0x7f82d64176d0>"
            ]
          },
          "metadata": {
            "tags": []
          },
          "execution_count": 35
        },
        {
          "output_type": "display_data",
          "data": {
            "image/png": "[encoded data removed]",
            "text/plain": [
              "<Figure size 1728x792 with 1 Axes>"
            ]
          },
          "metadata": {
            "tags": [],
            "needs_background": "light"
          }
        }
      ]
    },
    {
      "cell_type": "code",
      "metadata": {
        "colab": {
          "base_uri": "https://localhost:8080/",
          "height": 554
        },
        "id": "OYeuS4z_R-uj",
        "outputId": "ce677cac-a574-4b7b-d6fb-c1151a584795"
      },
      "source": [
        "df1['NCP'].plot.bar(rot=0)"
      ],
      "execution_count": null,
      "outputs": [
        {
          "output_type": "execute_result",
          "data": {
            "text/plain": [
              "<matplotlib.axes._subplots.AxesSubplot at 0x7f82d5b45450>"
            ]
          },
          "metadata": {
            "tags": []
          },
          "execution_count": 36
        },
        {
          "output_type": "display_data",
          "data": {
            "image/png": "[encoded data removed]",
            "text/plain": [
              "<Figure size 864x648 with 1 Axes>"
            ]
          },
          "metadata": {
            "tags": [],
            "needs_background": "light"
          }
        }
      ]
    },
    {
      "cell_type": "code",
      "metadata": {
        "colab": {
          "base_uri": "https://localhost:8080/",
          "height": 554
        },
        "id": "HjjcU4-6Zrqy",
        "outputId": "6428aeda-921d-4c05-a8f3-c7b10cabcc5b"
      },
      "source": [
        "plt.figure()\n",
        "plt.plot(df1['NCP'])\n",
        "plt.plot(df1['NCE'])"
      ],
      "execution_count": null,
      "outputs": [
        {
          "output_type": "execute_result",
          "data": {
            "text/plain": [
              "[<matplotlib.lines.Line2D at 0x7f82cba038d0>]"
            ]
          },
          "metadata": {
            "tags": []
          },
          "execution_count": 44
        },
        {
          "output_type": "display_data",
          "data": {
            "image/png": "[encoded data removed]",
            "text/plain": [
              "<Figure size 864x648 with 1 Axes>"
            ]
          },
          "metadata": {
            "tags": [],
            "needs_background": "light"
          }
        }
      ]
    },
    {
      "cell_type": "code",
      "metadata": {
        "colab": {
          "base_uri": "https://localhost:8080/",
          "height": 407
        },
        "id": "l3Gtl7uYIHf5",
        "outputId": "699ebf4d-2c64-4dbf-f852-35ead6cae916"
      },
      "source": [
        "sns.displot(df1['NCP'])\n",
        "plt.title(\"Distribution de NCP\", fontsize=20)"
      ],
      "execution_count": null,
      "outputs": [
        {
          "output_type": "execute_result",
          "data": {
            "text/plain": [
              "Text(0.5, 1.0, 'Distribution de NCP')"
            ]
          },
          "metadata": {
            "tags": []
          },
          "execution_count": 37
        },
        {
          "output_type": "display_data",
          "data": {
            "image/png": "[encoded data removed]",
            "text/plain": [
              "<Figure size 360x360 with 1 Axes>"
            ]
          },
          "metadata": {
            "tags": [],
            "needs_background": "light"
          }
        }
      ]
    },
    {
      "cell_type": "markdown",
      "metadata": {
        "id": "iFdILXDPQrKz"
      },
      "source": [
        "# *Scénario 2*"
      ]
    },
    {
      "cell_type": "code",
      "metadata": {
        "colab": {
          "base_uri": "https://localhost:8080/",
          "height": 627
        },
        "id": "FfJHUfdlQvW2",
        "outputId": "60e55e6a-0371-4f6c-d4f0-a752dd88870c"
      },
      "source": [
        "df2_sanspi.plot.bar(rot=0,figsize=(44,24))"
      ],
      "execution_count": null,
      "outputs": [
        {
          "output_type": "execute_result",
          "data": {
            "text/plain": [
              "<matplotlib.axes._subplots.AxesSubplot at 0x7f82cc675450>"
            ]
          },
          "metadata": {
            "tags": []
          },
          "execution_count": 38
        },
        {
          "output_type": "display_data",
          "data": {
            "image/png": "[encoded data removed]",
            "text/plain": [
              "<Figure size 3168x1728 with 1 Axes>"
            ]
          },
          "metadata": {
            "tags": [],
            "needs_background": "light"
          }
        }
      ]
    },
    {
      "cell_type": "code",
      "metadata": {
        "colab": {
          "base_uri": "https://localhost:8080/",
          "height": 553
        },
        "id": "ZroJwV3DQwM8",
        "outputId": "74506964-2e26-4744-f86b-57e4b3d4ec61"
      },
      "source": [
        "df2_sanspi.plot.bar(stacked=True,figsize=(24, 11))"
      ],
      "execution_count": null,
      "outputs": [
        {
          "output_type": "execute_result",
          "data": {
            "text/plain": [
              "<matplotlib.axes._subplots.AxesSubplot at 0x7f82cc2134d0>"
            ]
          },
          "metadata": {
            "tags": []
          },
          "execution_count": 39
        },
        {
          "output_type": "display_data",
          "data": {
            "image/png": "[encoded data removed]",
            "text/plain": [
              "<Figure size 1728x792 with 1 Axes>"
            ]
          },
          "metadata": {
            "tags": [],
            "needs_background": "light"
          }
        }
      ]
    },
    {
      "cell_type": "code",
      "metadata": {
        "colab": {
          "base_uri": "https://localhost:8080/",
          "height": 557
        },
        "id": "qvyzHYz9QwD1",
        "outputId": "60b5f0bf-b57e-4ce2-e6fb-c2ed7533c2f2"
      },
      "source": [
        "df2['NCP'].plot.bar(rot=0)\n"
      ],
      "execution_count": null,
      "outputs": [
        {
          "output_type": "execute_result",
          "data": {
            "text/plain": [
              "<matplotlib.axes._subplots.AxesSubplot at 0x7f82cbd5d310>"
            ]
          },
          "metadata": {
            "tags": []
          },
          "execution_count": 40
        },
        {
          "output_type": "display_data",
          "data": {
            "image/png": "[encoded data removed]",
            "text/plain": [
              "<Figure size 864x648 with 1 Axes>"
            ]
          },
          "metadata": {
            "tags": [],
            "needs_background": "light"
          }
        }
      ]
    },
    {
      "cell_type": "code",
      "metadata": {
        "colab": {
          "base_uri": "https://localhost:8080/",
          "height": 554
        },
        "id": "D1fJBIbWRILi",
        "outputId": "d8fc81c5-4d81-4cff-b9ab-b15901171881"
      },
      "source": [
        "plt.figure()\n",
        "plt.plot(df2['NCP'])\n",
        "plt.plot(df2['NCE'])\n"
      ],
      "execution_count": null,
      "outputs": [
        {
          "output_type": "execute_result",
          "data": {
            "text/plain": [
              "[<matplotlib.lines.Line2D at 0x7f82cbb265d0>]"
            ]
          },
          "metadata": {
            "tags": []
          },
          "execution_count": 41
        },
        {
          "output_type": "display_data",
          "data": {
            "image/png": "[encoded data removed]",
            "text/plain": [
              "<Figure size 864x648 with 1 Axes>"
            ]
          },
          "metadata": {
            "tags": [],
            "needs_background": "light"
          }
        }
      ]
    },
    {
      "cell_type": "code",
      "metadata": {
        "colab": {
          "base_uri": "https://localhost:8080/",
          "height": 407
        },
        "id": "OQAh65KFRH8I",
        "outputId": "97a39c40-e98f-4df1-bbe0-240d1b3515da"
      },
      "source": [
        "sns.displot(df2['NCP'])\n",
        "plt.title(\"Distribution de NCP\", fontsize=20)"
      ],
      "execution_count": null,
      "outputs": [
        {
          "output_type": "execute_result",
          "data": {
            "text/plain": [
              "Text(0.5, 1.0, 'Distribution de NCP')"
            ]
          },
          "metadata": {
            "tags": []
          },
          "execution_count": 42
        },
        {
          "output_type": "display_data",
          "data": {
            "image/png": "[encoded data removed]",
            "text/plain": [
              "<Figure size 360x360 with 1 Axes>"
            ]
          },
          "metadata": {
            "tags": [],
            "needs_background": "light"
          }
        }
      ]
    }
  ]
}